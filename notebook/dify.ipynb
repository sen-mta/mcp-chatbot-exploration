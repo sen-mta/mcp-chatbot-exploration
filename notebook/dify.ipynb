{
 "cells": [
  {
   "cell_type": "code",
   "execution_count": 6,
   "id": "275a56b2",
   "metadata": {},
   "outputs": [
    {
     "name": "stdout",
     "output_type": "stream",
     "text": [
      "I'm so sorry to hear that your food was stale, John. To help me understand what happened, could you please tell me which dish was stale and when you ordered it?\n",
      "\n"
     ]
    }
   ],
   "source": [
    "import requests\n",
    "import os\n",
    "from dotenv import load_dotenv\n",
    "load_dotenv()\n",
    "\n",
    "DIFY_API_KEY = os.getenv(\"DIFY_API_KEY\")\n",
    "\n",
    "API_URL = \"http://srv01.dev.keycenter.ai:3000/v1/chat-messages\"\n",
    "\n",
    "headers = {\n",
    "    \"Authorization\": f\"Bearer {DIFY_API_KEY}\",\n",
    "    \"Content-Type\": \"application/json\"\n",
    "}\n",
    "\n",
    "def send_message_with_inputs(query, inputs=None, user_id=\"user-123\", conversation_id=\"\"):\n",
    "    payload = {\n",
    "        \"inputs\": inputs or {},\n",
    "        \"query\": query,\n",
    "        \"response_mode\": \"blocking\",\n",
    "        \"conversation_id\": conversation_id,\n",
    "        \"user\": user_id\n",
    "    }\n",
    "    \n",
    "    response = requests.post(API_URL, headers=headers, json=payload)\n",
    "    return response.json()\n",
    "\n",
    "# Example with variables\n",
    "inputs = {\n",
    "    \"customer_name\": \"John\",\n",
    "    \"room_number\": \"21\",\n",
    "    \"db_uri\": \"mongodb://localhost:27017\",\n",
    "}\n",
    "\n",
    "result = send_message_with_inputs(\n",
    "    # query=\"any food recommendations with high protein?\",\n",
    "    query=\"my food is stale, can you help me?\",\n",
    "    inputs=inputs\n",
    ")\n",
    "print(result['answer'])"
   ]
  },
  {
   "cell_type": "code",
   "execution_count": 4,
   "id": "b2ea9a11",
   "metadata": {},
   "outputs": [
    {
     "data": {
      "text/plain": [
       "{'event': 'message',\n",
       " 'task_id': '7098ff72-0995-4d73-8259-e47ccadd86a6',\n",
       " 'id': '69253c14-e410-4c3f-ba8c-9dda7a1b6bd7',\n",
       " 'message_id': '69253c14-e410-4c3f-ba8c-9dda7a1b6bd7',\n",
       " 'conversation_id': 'd02b7453-25b7-4d0b-a007-6b7f734f53c5',\n",
       " 'mode': 'advanced-chat',\n",
       " 'answer': 'Certainly, Mr. John, I can recommend some high-protein dishes. We have the Deep Fried King Prawns with Chili Crab Sauce, Asian BBQ Chicken, Thai Duck Red Curry, Wagyu Beef Rendang, Miso Glazed Salmon, Grilled Ribeye Steak, and Chicken Cordon Bleu. From our Indonesian Favourites, the Soto Medan (with prawn and chicken) and Rawon Iga (braised beef ribs) are also excellent choices. Would you like more information about any of these?\\n',\n",
       " 'metadata': {'usage': {'prompt_tokens': 0,\n",
       "   'prompt_unit_price': '0.0',\n",
       "   'prompt_price_unit': '0.0',\n",
       "   'prompt_price': '0.0',\n",
       "   'completion_tokens': 0,\n",
       "   'completion_unit_price': '0.0',\n",
       "   'completion_price_unit': '0.0',\n",
       "   'completion_price': '0.0',\n",
       "   'total_tokens': 0,\n",
       "   'total_price': '0.0',\n",
       "   'currency': 'USD',\n",
       "   'latency': 0.0}},\n",
       " 'created_at': 1749012207}"
      ]
     },
     "execution_count": 4,
     "metadata": {},
     "output_type": "execute_result"
    }
   ],
   "source": [
    "result"
   ]
  }
 ],
 "metadata": {
  "kernelspec": {
   "display_name": ".venv",
   "language": "python",
   "name": "python3"
  },
  "language_info": {
   "codemirror_mode": {
    "name": "ipython",
    "version": 3
   },
   "file_extension": ".py",
   "mimetype": "text/x-python",
   "name": "python",
   "nbconvert_exporter": "python",
   "pygments_lexer": "ipython3",
   "version": "3.10.11"
  }
 },
 "nbformat": 4,
 "nbformat_minor": 5
}
